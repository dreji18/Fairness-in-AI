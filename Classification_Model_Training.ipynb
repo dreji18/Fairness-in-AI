{
  "cells": [
    {
      "cell_type": "markdown",
      "source": [
        "## Classification model with DistilBert Embeddings \n",
        "\n",
        "This model is fine tuned on Distilbert Architecture "
      ],
      "metadata": {
        "id": "dL0D0WIe-nmv"
      }
    },
    {
      "cell_type": "markdown",
      "source": [
        "##### *Loading packages and Libraries*"
      ],
      "metadata": {
        "id": "crgfaVtQ--kw"
      }
    },
    {
      "cell_type": "code",
      "source": [
        "#!pip install transformers"
      ],
      "outputs": [],
      "execution_count": 1,
      "metadata": {
        "id": "ZVmIsEac-vSt"
      }
    },
    {
      "cell_type": "code",
      "source": [
        "#!pip install codecarbon"
      ],
      "outputs": [],
      "execution_count": 2,
      "metadata": {
        "id": "i07HOpiKBhlF"
      }
    },
    {
      "cell_type": "code",
      "source": [
        "from transformers import DistilBertTokenizer\n",
        "from transformers import TFDistilBertForSequenceClassification\n",
        "import tensorflow as tf\n",
        "import pandas as pd\n",
        "import json\n",
        "import os \n",
        "import xlrd\n",
        "import matplotlib.pyplot as plt\n",
        "\n",
        "from codecarbon import EmissionsTracker"
      ],
      "outputs": [],
      "execution_count": 36,
      "metadata": {
        "id": "qs-WnMR1_Mbt",
        "gather": {
          "logged": 1638697813891
        }
      }
    },
    {
      "cell_type": "markdown",
      "source": [
        "#### *Reading the data*\n",
        "\n",
        "Here we are loading the data from shared drive"
      ],
      "metadata": {
        "id": "Cex1gZii_ZL1"
      }
    },
    {
      "cell_type": "code",
      "source": [
        "df = pd.read_excel('annotations.xlsx')\n",
        "print(df)"
      ],
      "outputs": [
        {
          "output_type": "stream",
          "name": "stdout",
          "text": "       Unnamed: 0  Unnamed: 0.1                  survey_record_id  \\\n0               0         19227  0045473f40ec42a2bd2ca0ee35df0b75   \n1               1         19228  0045473f40ec42a2bd2ca0ee35df0b75   \n2               2         19229  0045473f40ec42a2bd2ca0ee35df0b75   \n3               3         19231  0045473f40ec42a2bd2ca0ee35df0b75   \n4               4         19232  0045473f40ec42a2bd2ca0ee35df0b75   \n...           ...           ...                               ...   \n17770       22466         18746  ffb744b78ce2471cbc1ead6be531fc84   \n17771       22467         18748  ffb744b78ce2471cbc1ead6be531fc84   \n17772       22468         18749  ffb744b78ce2471cbc1ead6be531fc84   \n17773       22469         18753  ffb744b78ce2471cbc1ead6be531fc84   \n17774       22470         18755  ffb744b78ce2471cbc1ead6be531fc84   \n\n                            sentence_id  sentence_group_id  \\\n0      06e9e57e549d4dd48d8ac649ff81fd2e                 67   \n1      07f2137fd3ae4dd2b5c990b93e5c2a62                 67   \n2      10a5e68a84ab4c1a83d861b87c57def9                 67   \n3      17e77a14ecaa478fa81cf80e10f92e50                 67   \n4      251232bf6ddf4bcbac7fb40a8aec1964                 67   \n...                                 ...                ...   \n17770  d5dafafdbded40b6b0f6fe4a5cba521f                 60   \n17771  d7668e1c08114054bc887711b50fbcc0                 60   \n17772  d92c0f5cab654cf5a242ca66a6a28e51                 60   \n17773  e7c24408a44044a0b651323cfc8af9f8                 60   \n17774  e988db87a5064fd4906f4fb50d93b254                 60   \n\n                created_at       label  \\\n0      2020-08-12 06:09:53  Non-biased   \n1      2020-08-12 06:10:21  Non-biased   \n2      2020-08-12 06:10:35  Non-biased   \n3      2020-08-12 06:10:51  Non-biased   \n4      2020-08-12 06:11:04  Non-biased   \n...                    ...         ...   \n17770  2020-08-11 22:17:05      Biased   \n17771  2020-08-11 22:17:47      Biased   \n17772  2020-08-11 22:18:05      Biased   \n17773  2020-08-11 22:19:53      Biased   \n17774  2020-08-11 22:20:17      Biased   \n\n                                                   words  \\\n0                                                    NaN   \n1                                                    NaN   \n2                                                    NaN   \n3                                                    NaN   \n4                                                    NaN   \n...                                                  ...   \n17770                                             pushed   \n17771                  socially distant,required to wear   \n17772                                      normalization   \n17773  ruthless,feebly,assuage his ego,demanding,ween...   \n17774                                              strip   \n\n                                     factual  group_id  ...      outlet  \\\n0                           Entirely factual        67  ...   breitbart   \n1                 Expresses writer’s opinion        67  ...    alternet   \n2      Somewhat factual but also opinionated        67  ...       msnbc   \n3                 Expresses writer’s opinion        67  ...   breitbart   \n4                 Expresses writer’s opinion        67  ...  federalist   \n...                                      ...       ...  ...         ...   \n17770             Expresses writer’s opinion        60  ...   usa-today   \n17771  Somewhat factual but also opinionated        60  ...       msnbc   \n17772  Somewhat factual but also opinionated        60  ...     reuters   \n17773             Expresses writer’s opinion        60  ...    alternet   \n17774  Somewhat factual but also opinionated        60  ...   breitbart   \n\n                       mturk_id age gender          education  \\\n0      Jonathan Daniel Garavito  29   Male  Bachelor’s degree   \n1      Jonathan Daniel Garavito  29   Male  Bachelor’s degree   \n2      Jonathan Daniel Garavito  29   Male  Bachelor’s degree   \n3      Jonathan Daniel Garavito  29   Male  Bachelor’s degree   \n4      Jonathan Daniel Garavito  29   Male  Bachelor’s degree   \n...                         ...  ..    ...                ...   \n17770             AFQKLIYNCVZTL  40   Male  Bachelor’s degree   \n17771             AFQKLIYNCVZTL  40   Male  Bachelor’s degree   \n17772             AFQKLIYNCVZTL  40   Male  Bachelor’s degree   \n17773             AFQKLIYNCVZTL  40   Male  Bachelor’s degree   \n17774             AFQKLIYNCVZTL  40   Male  Bachelor’s degree   \n\n      native_english_speaker  political_ideology  \\\n0             Native speaker                   7   \n1             Native speaker                   7   \n2             Native speaker                   7   \n3             Native speaker                   7   \n4             Native speaker                   7   \n...                      ...                 ...   \n17770         Native speaker                   4   \n17771         Native speaker                   4   \n17772         Native speaker                   4   \n17773         Native speaker                   4   \n17774         Native speaker                   4   \n\n                                   followed_news_outlets  \\\n0                                  ['ABC News', 'MSNBC']   \n1                                  ['ABC News', 'MSNBC']   \n2                                  ['ABC News', 'MSNBC']   \n3                                  ['ABC News', 'MSNBC']   \n4                                  ['ABC News', 'MSNBC']   \n...                                                  ...   \n17770  ['Fox News', 'The Wall Street Journal', 'The F...   \n17771  ['Fox News', 'The Wall Street Journal', 'The F...   \n17772  ['Fox News', 'The Wall Street Journal', 'The F...   \n17773  ['Fox News', 'The Wall Street Journal', 'The F...   \n17774  ['Fox News', 'The Wall Street Journal', 'The F...   \n\n        news_check_frequency survey_completed  \n0                  Every day             True  \n1                  Every day             True  \n2                  Every day             True  \n3                  Every day             True  \n4                  Every day             True  \n...                      ...              ...  \n17770  Several times per day             True  \n17771  Several times per day             True  \n17772  Several times per day             True  \n17773  Several times per day             True  \n17774  Several times per day             True  \n\n[17775 rows x 24 columns]\n"
        }
      ],
      "execution_count": 3,
      "metadata": {
        "colab": {
          "base_uri": "https://localhost:8080/"
        },
        "id": "bo0VBAKI_MiI",
        "outputId": "8bf3038d-9abd-490d-95e4-324956f5139d",
        "gather": {
          "logged": 1638684475572
        }
      }
    },
    {
      "cell_type": "code",
      "source": [
        "df.columns"
      ],
      "outputs": [
        {
          "output_type": "execute_result",
          "execution_count": 4,
          "data": {
            "text/plain": "Index(['Unnamed: 0', 'Unnamed: 0.1', 'survey_record_id', 'sentence_id',\n       'sentence_group_id', 'created_at', 'label', 'words', 'factual',\n       'group_id', 'text', 'link', 'type', 'topic', 'outlet', 'mturk_id',\n       'age', 'gender', 'education', 'native_english_speaker',\n       'political_ideology', 'followed_news_outlets', 'news_check_frequency',\n       'survey_completed'],\n      dtype='object')"
          },
          "metadata": {}
        }
      ],
      "execution_count": 4,
      "metadata": {
        "colab": {
          "base_uri": "https://localhost:8080/"
        },
        "id": "vWtPrTSklW9P",
        "outputId": "da42682f-d1e0-4f5f-a52c-fadbe4af6f82",
        "gather": {
          "logged": 1638684481233
        }
      }
    },
    {
      "cell_type": "markdown",
      "source": [
        "#### *Data Manipulation*"
      ],
      "metadata": {
        "id": "ejL4YxAPvgUz"
      }
    },
    {
      "cell_type": "code",
      "source": [
        "# filtering required columns\n",
        "df = df[['label', 'words', 'factual', 'text', 'topic']]\n",
        "df = df.dropna(subset=['text', 'label'])\n",
        "df.head()"
      ],
      "outputs": [
        {
          "output_type": "execute_result",
          "execution_count": 5,
          "data": {
            "text/plain": "        label words                                factual  \\\n0  Non-biased   NaN                       Entirely factual   \n1  Non-biased   NaN             Expresses writer’s opinion   \n2  Non-biased   NaN  Somewhat factual but also opinionated   \n3  Non-biased   NaN             Expresses writer’s opinion   \n4  Non-biased   NaN             Expresses writer’s opinion   \n\n                                                text              topic  \n0  The transgender effort to suppress any recogni...             gender  \n1  Radical Virginia Citizens Defense League has o...        gun-control  \n2  Miller is the architect of President Donald Tr...  white-nationalism  \n3  The House Democrats’ 1,400-page coronavirus re...        coronavirus  \n4  A specter is haunting the West; our elites see...  white-nationalism  ",
            "text/html": "<div>\n<style scoped>\n    .dataframe tbody tr th:only-of-type {\n        vertical-align: middle;\n    }\n\n    .dataframe tbody tr th {\n        vertical-align: top;\n    }\n\n    .dataframe thead th {\n        text-align: right;\n    }\n</style>\n<table border=\"1\" class=\"dataframe\">\n  <thead>\n    <tr style=\"text-align: right;\">\n      <th></th>\n      <th>label</th>\n      <th>words</th>\n      <th>factual</th>\n      <th>text</th>\n      <th>topic</th>\n    </tr>\n  </thead>\n  <tbody>\n    <tr>\n      <th>0</th>\n      <td>Non-biased</td>\n      <td>NaN</td>\n      <td>Entirely factual</td>\n      <td>The transgender effort to suppress any recogni...</td>\n      <td>gender</td>\n    </tr>\n    <tr>\n      <th>1</th>\n      <td>Non-biased</td>\n      <td>NaN</td>\n      <td>Expresses writer’s opinion</td>\n      <td>Radical Virginia Citizens Defense League has o...</td>\n      <td>gun-control</td>\n    </tr>\n    <tr>\n      <th>2</th>\n      <td>Non-biased</td>\n      <td>NaN</td>\n      <td>Somewhat factual but also opinionated</td>\n      <td>Miller is the architect of President Donald Tr...</td>\n      <td>white-nationalism</td>\n    </tr>\n    <tr>\n      <th>3</th>\n      <td>Non-biased</td>\n      <td>NaN</td>\n      <td>Expresses writer’s opinion</td>\n      <td>The House Democrats’ 1,400-page coronavirus re...</td>\n      <td>coronavirus</td>\n    </tr>\n    <tr>\n      <th>4</th>\n      <td>Non-biased</td>\n      <td>NaN</td>\n      <td>Expresses writer’s opinion</td>\n      <td>A specter is haunting the West; our elites see...</td>\n      <td>white-nationalism</td>\n    </tr>\n  </tbody>\n</table>\n</div>"
          },
          "metadata": {}
        }
      ],
      "execution_count": 5,
      "metadata": {
        "colab": {
          "base_uri": "https://localhost:8080/",
          "height": 206
        },
        "id": "ZPCOjWNLvjZy",
        "outputId": "ab33739d-24f1-420c-d6d3-75e8955fc844",
        "gather": {
          "logged": 1638684483557
        }
      }
    },
    {
      "cell_type": "code",
      "source": [
        "df['label'].value_counts().plot(kind='barh')"
      ],
      "outputs": [
        {
          "output_type": "execute_result",
          "execution_count": 6,
          "data": {
            "text/plain": "<matplotlib.axes._subplots.AxesSubplot at 0x7fc9091754e0>"
          },
          "metadata": {}
        },
        {
          "output_type": "display_data",
          "data": {
            "text/plain": "<Figure size 432x288 with 1 Axes>",
            "image/png": "[encoded data removed]"
          },
          "metadata": {
            "needs_background": "light"
          }
        }
      ],
      "execution_count": 6,
      "metadata": {
        "colab": {
          "base_uri": "https://localhost:8080/",
          "height": 282
        },
        "id": "b2qMKzpz_iLI",
        "outputId": "ddf155b8-f671-4fe0-9076-096bd47987cb",
        "gather": {
          "logged": 1638684488177
        }
      }
    },
    {
      "cell_type": "code",
      "source": [
        "df['label'].value_counts()"
      ],
      "outputs": [
        {
          "output_type": "execute_result",
          "execution_count": 88,
          "data": {
            "text/plain": "Biased        10651\nNon-biased     7124\nName: label, dtype: int64"
          },
          "metadata": {}
        }
      ],
      "execution_count": 88,
      "metadata": {
        "jupyter": {
          "source_hidden": false,
          "outputs_hidden": false
        },
        "nteract": {
          "transient": {
            "deleting": false
          }
        },
        "gather": {
          "logged": 1638700943734
        }
      }
    },
    {
      "cell_type": "code",
      "source": [
        "df['encoded Label'] = df['label']\n",
        "df.replace({'encoded Label': {'Non-biased': 0, 'Biased': 1}}, inplace=True)"
      ],
      "outputs": [],
      "execution_count": 7,
      "metadata": {
        "id": "zbg_EzSU6FXd",
        "gather": {
          "logged": 1638684490400
        }
      }
    },
    {
      "cell_type": "markdown",
      "source": [
        "#### *Features and Labels*"
      ],
      "metadata": {
        "id": "veBRSIoN6ncf"
      }
    },
    {
      "cell_type": "code",
      "source": [
        "data_texts = df[\"text\"].to_list() # Features (not-tokenized yet)\n",
        "data_labels = df[\"encoded Label\"].to_list() # Lables"
      ],
      "outputs": [],
      "execution_count": 8,
      "metadata": {
        "id": "AGdZcqC16p9w",
        "gather": {
          "logged": 1638684492388
        }
      }
    },
    {
      "cell_type": "markdown",
      "source": [
        "#### *Splitting data to train and test*"
      ],
      "metadata": {
        "id": "Oc-3vGi57Vh3"
      }
    },
    {
      "cell_type": "code",
      "source": [
        "from sklearn.model_selection import train_test_split\n",
        "\n",
        "# Split Train and Validation data\n",
        "train_texts, val_texts, train_labels, val_labels = train_test_split(data_texts, data_labels, test_size=0.10, random_state=0)\n",
        "\n",
        "# Keep some data for inference (testing)\n",
        "train_texts, test_texts, train_labels, test_labels = train_test_split(train_texts, train_labels, test_size=0.10, random_state=0)"
      ],
      "outputs": [],
      "execution_count": 9,
      "metadata": {
        "id": "QqOP88Yf7WY3",
        "gather": {
          "logged": 1638684497314
        }
      }
    },
    {
      "cell_type": "markdown",
      "source": [
        "#### *tokenizing the text*"
      ],
      "metadata": {
        "id": "WUS8xE9H_UAk"
      }
    },
    {
      "cell_type": "code",
      "source": [
        "tokenizer = DistilBertTokenizer.from_pretrained('distilbert-base-uncased', cuda = 0)\n",
        "train_encodings = tokenizer(train_texts, truncation=True, padding=True)\n",
        "val_encodings = tokenizer(val_texts, truncation=True, padding=True)"
      ],
      "outputs": [],
      "execution_count": 10,
      "metadata": {
        "colab": {
          "base_uri": "https://localhost:8080/",
          "height": 145,
          "referenced_widgets": [
            "fc1ba074a8fe4de89202b6fc58ab0fbe",
            "982a628b8ee447b7bcd1c08719d60996",
            "b9e4f2d60ef34d2a9dc02d57ecbac4ed",
            "d8cd1d70139b4b6f9a0963aab4a7388b",
            "6c97078cdd0f4339b65b6e13a20fb951",
            "ac2e615e906c4122bcf4cba9e9f142eb",
            "1a40f86077ab47a5a9afc3cdb63ac045",
            "cfb65eaa0cd24af8a98813a1d6de4529",
            "2273efb66fdf4255a046e6fed5d9dd7d",
            "b1abf5032469472b8ba8e84b1ec89431",
            "c52f9e538119406fa0f0996285e4273d",
            "4921473b4d6948daaf8d082f46f78a91",
            "067a30a8504448e18f0f9dc7f19c9424",
            "d60b2d830b3643468b70c19ed3f09451",
            "65f2e5de77924f278a786ab5336062c1",
            "5f71ab94c9c24617ae3e78da1867aa54",
            "5aba264b3fea42e49e8f70055508d2ca",
            "4624fc9e76ed49b9abe09973390244cd",
            "a78461e29905406bb09c57a7a46ae7f9",
            "b2881a90184946f9bebfb2c035b3d353",
            "c3f57a847689444aa46d17f472de6f2d",
            "f7b32be5f7cd4338bbe4f5db89a9a3f5",
            "d6af7b7ba3cb438cb80f0bf260298713",
            "beea65fb2afa453a9f1cfef7ef349a25",
            "2ace8874e1b7487d81c5002e8c0534b9",
            "afcf8e77872a450685695e22f988e84d",
            "e9add99fdf854d76b4ec899ff077cea2",
            "a0cf9be945c4480d9ddc583cc1aebd64",
            "b7a2e55e37c44533909633fa8546b27b",
            "fd1b079496dd4633b99f5e7abc55d444",
            "0ada8f0f53144ed988659d3f09130ba0",
            "db166eb3744840e39782102e19d9d799",
            "879d696bc3d64b7c9def081889f8c463",
            "5a852e6ee48a4e7996768297ffdea039",
            "13841b9545b645249880eefcd41fc555",
            "1a06f1680a2a4de28e5ce26edd05bdca",
            "2c7d3c2bb50e49ee8c381b1bff04e1fa",
            "2399cac80dd04c6a8fff3b9ffed44d38",
            "55c7a73044604a6dad9f1b7312967936",
            "04e4b3c2fe2f48e7a36ef9670606947d",
            "0753843a7a2e4fd59cde598bf824dc13",
            "304609b15c34425e8b40e010d97e8e47",
            "714d9ace8d864af8a8e6e4854b57fe5d",
            "2c606689f16b4c188314ed90912a1e52"
          ]
        },
        "id": "hYGg6ambB45O",
        "outputId": "6d32b3a5-028f-42ee-8ea5-5f68b9b4b9b5",
        "gather": {
          "logged": 1638684518381
        }
      }
    },
    {
      "cell_type": "markdown",
      "source": [
        "#### *Datset object for Tensorflow*"
      ],
      "metadata": {
        "id": "9ZyiPsH3_Wty"
      }
    },
    {
      "cell_type": "code",
      "source": [
        "train_dataset = tf.data.Dataset.from_tensor_slices((\n",
        "    dict(train_encodings),\n",
        "    train_labels\n",
        "))\n",
        "val_dataset = tf.data.Dataset.from_tensor_slices((\n",
        "    dict(val_encodings),\n",
        "    val_labels\n",
        "))"
      ],
      "outputs": [],
      "execution_count": 12,
      "metadata": {
        "id": "lOUfmumI3p8B",
        "gather": {
          "logged": 1638684578717
        }
      }
    },
    {
      "cell_type": "markdown",
      "source": [
        "#### *Model definition*"
      ],
      "metadata": {
        "id": "hZMI02NT_X2U"
      }
    },
    {
      "cell_type": "code",
      "source": [
        "model = TFDistilBertForSequenceClassification.from_pretrained('distilbert-base-uncased', num_labels=2)\n",
        "\n",
        "optimizer = tf.keras.optimizers.Adam(learning_rate=5e-5)\n",
        "model.compile(optimizer=optimizer, loss=model.compute_loss, metrics=['accuracy'])"
      ],
      "outputs": [
        {
          "output_type": "stream",
          "name": "stderr",
          "text": "Some layers from the model checkpoint at distilbert-base-uncased were not used when initializing TFDistilBertForSequenceClassification: ['vocab_layer_norm', 'vocab_transform', 'activation_13', 'vocab_projector']\n- This IS expected if you are initializing TFDistilBertForSequenceClassification from the checkpoint of a model trained on another task or with another architecture (e.g. initializing a BertForSequenceClassification model from a BertForPreTraining model).\n- This IS NOT expected if you are initializing TFDistilBertForSequenceClassification from the checkpoint of a model that you expect to be exactly identical (initializing a BertForSequenceClassification model from a BertForSequenceClassification model).\nSome layers of TFDistilBertForSequenceClassification were not initialized from the model checkpoint at distilbert-base-uncased and are newly initialized: ['pre_classifier', 'dropout_19', 'classifier']\nYou should probably TRAIN this model on a down-stream task to be able to use it for predictions and inference.\n"
        }
      ],
      "execution_count": 13,
      "metadata": {
        "colab": {
          "base_uri": "https://localhost:8080/",
          "height": 156,
          "referenced_widgets": [
            "5c9de137884c4611a35fc3023c6e530c",
            "f225a899a2284fadbc57144f8a7a857a",
            "8d8336664c5e46979e140df507b0258d",
            "e5db0747de2042afb7b7cd2e3b3708a4",
            "0f6c95eb4202436e85f891331944f98c",
            "aab5c161db3c4fe9a690795bfa6e95cc",
            "71211f544266454a9e77a6fd4a1de2e3",
            "ae7572dd8d0b48b58f71fb6ed4f6c510",
            "cd8eacea68b1499ab8af31e799e8553a",
            "f65524347ad54f3a81f4cdd7399b04a5",
            "b40dd8248b4d49ccbbc692205b9253d2"
          ]
        },
        "id": "OMqmhEJW3r0h",
        "outputId": "5b6670d7-d014-4218-dc19-5fa943da71c0",
        "gather": {
          "logged": 1638684680223
        }
      }
    },
    {
      "cell_type": "code",
      "source": [
        "model.summary()"
      ],
      "outputs": [
        {
          "output_type": "stream",
          "name": "stdout",
          "text": "Model: \"tf_distil_bert_for_sequence_classification\"\n_________________________________________________________________\nLayer (type)                 Output Shape              Param #   \n=================================================================\ndistilbert (TFDistilBertMain multiple                  66362880  \n_________________________________________________________________\npre_classifier (Dense)       multiple                  590592    \n_________________________________________________________________\nclassifier (Dense)           multiple                  1538      \n_________________________________________________________________\ndropout_19 (Dropout)         multiple                  0         \n=================================================================\nTotal params: 66,955,010\nTrainable params: 66,955,010\nNon-trainable params: 0\n_________________________________________________________________\n"
        }
      ],
      "execution_count": 14,
      "metadata": {
        "colab": {
          "base_uri": "https://localhost:8080/"
        },
        "id": "1rkEpaM83tix",
        "outputId": "85226795-1ad8-4c33-a037-dd9d4c9e275a",
        "gather": {
          "logged": 1638684759215
        }
      }
    },
    {
      "cell_type": "markdown",
      "source": [
        "#### *Traning the Model*"
      ],
      "metadata": {
        "id": "OQByKEjy_Yn7"
      }
    },
    {
      "cell_type": "code",
      "source": [
        "tracker = EmissionsTracker()\n",
        "tracker.start()\n",
        "\n",
        "history = model.fit(train_dataset.shuffle(1000).batch(16), epochs=30, batch_size=16,\n",
        "                    validation_data=val_dataset.shuffle(1000).batch(16))\n",
        "\n",
        "tracker.stop()"
      ],
      "outputs": [
        {
          "output_type": "stream",
          "name": "stderr",
          "text": "CODECARBON : No CPU tracking mode found. Falling back on CPU constant mode.\nCODECARBON : Failed to match CPU TDP constant. Falling back on a global constant.\n"
        },
        {
          "output_type": "stream",
          "name": "stdout",
          "text": "Epoch 1/30\nWARNING:tensorflow:The parameters `output_attentions`, `output_hidden_states` and `use_cache` cannot be updated when calling a model.They have to be set to True/False in the config object (i.e.: `config=XConfig.from_pretrained('name', output_attentions=True)`).WARNING:tensorflow:AutoGraph could not transform <bound method Socket.send of <zmq.sugar.socket.Socket object at 0x7fc9f1c0da70>> and will run it as-is.\nPlease report this to the TensorFlow team. When filing the bug, set the verbosity to 10 (on Linux, `export AUTOGRAPH_VERBOSITY=10`) and attach the full output.\nCause: <cyfunction Socket.send at 0x7fca0bc03048> is not a module, class, method, function, traceback, frame, or code object\nTo silence this warning, decorate the function with @tf.autograph.experimental.do_not_convert\nWARNING: AutoGraph could not transform <bound method Socket.send of <zmq.sugar.socket.Socket object at 0x7fc9f1c0da70>> and will run it as-is.\nPlease report this to the TensorFlow team. When filing the bug, set the verbosity to 10 (on Linux, `export AUTOGRAPH_VERBOSITY=10`) and attach the full output.\nCause: <cyfunction Socket.send at 0x7fca0bc03048> is not a module, class, method, function, traceback, frame, or code object\nTo silence this warning, decorate the function with @tf.autograph.experimental.do_not_convert\n\nWARNING:tensorflow:The parameter `return_dict` cannot be set in graph mode and will always be set to `True`.\nWARNING:tensorflow:The parameters `output_attentions`, `output_hidden_states` and `use_cache` cannot be updated when calling a model.They have to be set to True/False in the config object (i.e.: `config=XConfig.from_pretrained('name', output_attentions=True)`).\nWARNING:tensorflow:The parameter `return_dict` cannot be set in graph mode and will always be set to `True`.\n900/900 [==============================] - ETA: 0s - loss: 0.6169 - accuracy: 0.6614WARNING:tensorflow:The parameters `output_attentions`, `output_hidden_states` and `use_cache` cannot be updated when calling a model.They have to be set to True/False in the config object (i.e.: `config=XConfig.from_pretrained('name', output_attentions=True)`).\nWARNING:tensorflow:The parameter `return_dict` cannot be set in graph mode and will always be set to `True`.\n900/900 [==============================] - 355s 377ms/step - loss: 0.6169 - accuracy: 0.6614 - val_loss: 0.6471 - val_accuracy: 0.6631\nEpoch 2/30\n900/900 [==============================] - 339s 376ms/step - loss: 0.5755 - accuracy: 0.7040 - val_loss: 0.6145 - val_accuracy: 0.6625\b\b\b\b\b\b\b\b\b\b\b\b\b\b\b\b\b\b\b\b\b\b\b\b\b\b\b\b\b\b\b\b\b\b\b\b\b\b\nEpoch 3/30\n900/900 [==============================] - 338s 376ms/step - loss: 0.5515 - accuracy: 0.7186 - val_loss: 0.6265 - val_accuracy: 0.6496\b\b\b\b\b\b\b\b\b\b\b\b\b\b\b\b\b\b\b\b\b\b\b\b\b\b\b\b\b\b\b\b\b\b\b\b\b\b\nEpoch 4/30\n900/900 [==============================] - 338s 376ms/step - loss: 0.5397 - accuracy: 0.7281 - val_loss: 0.6551 - val_accuracy: 0.6254\b\b\b\b\b\b\b\b\b\b\b\b\b\b\b\b\b\b\b\b\b\b\b\b\b\b\b\b\b\b\b\b\b\b\b\b\b\b\nEpoch 5/30\n900/900 [==============================] - 338s 376ms/step - loss: 0.5238 - accuracy: 0.7341 - val_loss: 0.6962 - val_accuracy: 0.6389\b\b\b\b\b\b\b\b\b\b\b\b\b\b\b\b\b\b\b\b\b\b\b\b\b\b\b\b\b\b\b\b\b\b\b\b\b\b\nEpoch 6/30\n900/900 [==============================] - 338s 376ms/step - loss: 0.5124 - accuracy: 0.7402 - val_loss: 0.7904 - val_accuracy: 0.6417\b\b\b\b\b\b\b\b\b\b\b\b\b\b\b\b\b\b\b\b\b\b\b\b\b\b\b\b\b\b\b\b\b\b\b\b\b\b\nEpoch 7/30\n900/900 [==============================] - 339s 376ms/step - loss: 0.4992 - accuracy: 0.7471 - val_loss: 0.7928 - val_accuracy: 0.6355\b\b\b\b\b\b\b\b\b\b\b\b\b\b\b\b\b\b\b\b\b\b\b\b\b\b\b\b\b\b\b\b\b\b\b\b\b\b\nEpoch 8/30\n900/900 [==============================] - 339s 376ms/step - loss: 0.4969 - accuracy: 0.7455 - val_loss: 0.8170 - val_accuracy: 0.6378\b\b\b\b\b\b\b\b\b\b\b\b\b\b\b\b\b\b\b\b\b\b\b\b\b\b\b\b\b\b\b\b\b\b\b\b\b\b\nEpoch 9/30\n900/900 [==============================] - 339s 377ms/step - loss: 0.4851 - accuracy: 0.7522 - val_loss: 0.8524 - val_accuracy: 0.6350\b\b\b\b\b\b\b\b\b\b\b\b\b\b\b\b\b\b\b\b\b\b\b\b\b\b\b\b\b\b\b\b\b\b\b\b\b\b\nEpoch 10/30\n900/900 [==============================] - 339s 377ms/step - loss: 0.4743 - accuracy: 0.7577 - val_loss: 0.9027 - val_accuracy: 0.6249\b\b\b\b\b\b\b\b\b\b\b\b\b\b\b\b\b\b\b\b\b\b\b\b\b\b\b\b\b\b\b\b\b\b\b\b\b\b\nEpoch 11/30\n900/900 [==============================] - 338s 376ms/step - loss: 0.4727 - accuracy: 0.7579 - val_loss: 0.8404 - val_accuracy: 0.6389\b\b\b\b\b\b\b\b\b\b\b\b\b\b\b\b\b\b\b\b\b\b\b\b\b\b\b\b\b\b\b\b\b\b\b\b\b\b\nEpoch 12/30\n900/900 [==============================] - 339s 376ms/step - loss: 0.4622 - accuracy: 0.7643 - val_loss: 0.8439 - val_accuracy: 0.6389\b\b\b\b\b\b\b\b\b\b\b\b\b\b\b\b\b\b\b\b\b\b\b\b\b\b\b\b\b\b\b\b\b\b\b\b\b\b\nEpoch 13/30\n900/900 [==============================] - 338s 376ms/step - loss: 0.4555 - accuracy: 0.7676 - val_loss: 0.9476 - val_accuracy: 0.6355\b\b\b\b\b\b\b\b\b\b\b\b\b\b\b\b\b\b\b\b\b\b\b\b\b\b\b\b\b\b\b\b\b\b\b\b\b\b\nEpoch 14/30\n900/900 [==============================] - 339s 376ms/step - loss: 0.4592 - accuracy: 0.7572 - val_loss: 0.8849 - val_accuracy: 0.6322\b\b\b\b\b\b\b\b\b\b\b\b\b\b\b\b\b\b\b\b\b\b\b\b\b\b\b\b\b\b\b\b\b\b\b\b\b\b\nEpoch 15/30\n900/900 [==============================] - 338s 376ms/step - loss: 0.4469 - accuracy: 0.7678 - val_loss: 0.8929 - val_accuracy: 0.6322\b\b\b\b\b\b\b\b\b\b\b\b\b\b\b\b\b\b\b\b\b\b\b\b\b\b\b\b\b\b\b\b\b\b\b\b\b\b\nEpoch 16/30\n900/900 [==============================] - 338s 376ms/step - loss: 0.4427 - accuracy: 0.7743 - val_loss: 0.8893 - val_accuracy: 0.6299\b\b\b\b\b\b\b\b\b\b\b\b\b\b\b\b\b\b\b\b\b\b\b\b\b\b\b\b\b\b\b\b\b\b\b\b\b\b\nEpoch 17/30\n900/900 [==============================] - 338s 376ms/step - loss: 0.4449 - accuracy: 0.7679 - val_loss: 1.0562 - val_accuracy: 0.6294\b\b\b\b\b\b\b\b\b\b\b\b\b\b\b\b\b\b\b\b\b\b\b\b\b\b\b\b\b\b\b\b\b\b\b\b\b\b\nEpoch 18/30\n900/900 [==============================] - 338s 376ms/step - loss: 0.4437 - accuracy: 0.7711 - val_loss: 1.0522 - val_accuracy: 0.6249\b\b\b\b\b\b\b\b\b\b\b\b\b\b\b\b\b\b\b\b\b\b\b\b\b\b\b\b\b\b\b\b\b\b\b\b\b\b\nEpoch 19/30\n900/900 [==============================] - 338s 376ms/step - loss: 0.4387 - accuracy: 0.7726 - val_loss: 1.0468 - val_accuracy: 0.6294\b\b\b\b\b\b\b\b\b\b\b\b\b\b\b\b\b\b\b\b\b\b\b\b\b\b\b\b\b\b\b\b\b\b\b\b\b\b\nEpoch 20/30\n900/900 [==============================] - 339s 377ms/step - loss: 0.4364 - accuracy: 0.7734 - val_loss: 1.1007 - val_accuracy: 0.6220\b\b\b\b\b\b\b\b\b\b\b\b\b\b\b\b\b\b\b\b\b\b\b\b\b\b\b\b\b\b\b\b\b\b\b\b\b\b\nEpoch 21/30\n900/900 [==============================] - 338s 376ms/step - loss: 0.4323 - accuracy: 0.7752 - val_loss: 1.2131 - val_accuracy: 0.6198\b\b\b\b\b\b\b\b\b\b\b\b\b\b\b\b\b\b\b\b\b\b\b\b\b\b\b\b\b\b\b\b\b\b\b\b\b\b\nEpoch 22/30\n900/900 [==============================] - 338s 376ms/step - loss: 0.4381 - accuracy: 0.7717 - val_loss: 0.9463 - val_accuracy: 0.6220\b\b\b\b\b\b\b\b\b\b\b\b\b\b\b\b\b\b\b\b\b\b\b\b\b\b\b\b\b\b\b\b\b\b\b\b\b\b\nEpoch 23/30\n900/900 [==============================] - 338s 376ms/step - loss: 0.4432 - accuracy: 0.7700 - val_loss: 1.0692 - val_accuracy: 0.6192\b\b\b\b\b\b\b\b\b\b\b\b\b\b\b\b\b\b\b\b\b\b\b\b\b\b\b\b\b\b\b\b\b\b\b\b\b\b\nEpoch 24/30\n900/900 [==============================] - 338s 376ms/step - loss: 0.4445 - accuracy: 0.7654 - val_loss: 1.0605 - val_accuracy: 0.6282\b\b\b\b\b\b\b\b\b\b\b\b\b\b\b\b\b\b\b\b\b\b\b\b\b\b\b\b\b\b\b\b\b\b\b\b\b\b\nEpoch 25/30\n900/900 [==============================] - 338s 376ms/step - loss: 0.4479 - accuracy: 0.7663 - val_loss: 1.2293 - val_accuracy: 0.6265\b\b\b\b\b\b\b\b\b\b\b\b\b\b\b\b\b\b\b\b\b\b\b\b\b\b\b\b\b\b\b\b\b\b\b\b\b\b\nEpoch 26/30\n900/900 [==============================] - 338s 376ms/step - loss: 0.4556 - accuracy: 0.7673 - val_loss: 0.8442 - val_accuracy: 0.6282\b\b\b\b\b\b\b\b\b\b\b\b\b\b\b\b\b\b\b\b\b\b\b\b\b\b\b\b\b\b\b\b\b\b\b\b\b\b\nEpoch 27/30\n900/900 [==============================] - 338s 376ms/step - loss: 0.4550 - accuracy: 0.7636 - val_loss: 0.9366 - val_accuracy: 0.6322\b\b\b\b\b\b\b\b\b\b\b\b\b\b\b\b\b\b\b\b\b\b\b\b\b\b\b\b\b\b\b\b\b\b\b\b\b\b\nEpoch 28/30\n900/900 [==============================] - 338s 376ms/step - loss: 0.4492 - accuracy: 0.7650 - val_loss: 1.0617 - val_accuracy: 0.6243\b\b\b\b\b\b\b\b\b\b\b\b\b\b\b\b\b\b\b\b\b\b\b\b\b\b\b\b\b\b\b\b\b\b\b\b\b\b\nEpoch 29/30\n900/900 [==============================] - 339s 376ms/step - loss: 0.4500 - accuracy: 0.7704 - val_loss: 0.9861 - val_accuracy: 0.6175\b\b\b\b\b\b\b\b\b\b\b\b\b\b\b\b\b\b\b\b\b\b\b\b\b\b\b\b\b\b\b\b\b\b\b\b\b\b\nEpoch 30/30\n900/900 [==============================] - 339s 376ms/step - loss: 0.4506 - accuracy: 0.7697 - val_loss: 0.9644 - val_accuracy: 0.6254\b\b\b\b\b\b\b\b\b\b\b\b\b\b\b\b\b\b\b\b\b\b\b\b\b\b\b\b\b\b\b\b\b\b\b\b\b\b\n"
        },
        {
          "output_type": "execute_result",
          "execution_count": 15,
          "data": {
            "text/plain": "0.31935524513626445"
          },
          "metadata": {}
        }
      ],
      "execution_count": 15,
      "metadata": {
        "colab": {
          "base_uri": "https://localhost:8080/"
        },
        "id": "-9UsQci13vli",
        "outputId": "5f44f2ee-e031-4898-c53d-ea90c2716124",
        "gather": {
          "logged": 1638694980038
        }
      }
    },
    {
      "cell_type": "code",
      "source": [
        "# plotting the results\r\n",
        "def plot_graphs(history, metric, title):\r\n",
        "  plt.plot(history.history[metric])\r\n",
        "  plt.title(title)\r\n",
        "  plt.plot(history.history['val_'+metric], '')\r\n",
        "  plt.xlabel(\"Epochs\")\r\n",
        "  plt.ylabel(metric)\r\n",
        "  plt.legend([metric, 'val_'+metric])\r\n",
        "  plt.show()\r\n",
        "\r\n",
        "plot_graphs(history, 'accuracy', 'Model Accuracy')\r\n",
        "plot_graphs(history, 'loss', 'Model Loss')"
      ],
      "outputs": [
        {
          "output_type": "display_data",
          "data": {
            "text/plain": "<Figure size 432x288 with 1 Axes>",
            "image/png": "[encoded data removed]"
          },
          "metadata": {
            "needs_background": "light"
          }
        },
        {
          "output_type": "display_data",
          "data": {
            "text/plain": "<Figure size 432x288 with 1 Axes>",
            "image/png": "[encoded data removed]"
          },
          "metadata": {
            "needs_background": "light"
          }
        }
      ],
      "execution_count": 53,
      "metadata": {
        "jupyter": {
          "source_hidden": false,
          "outputs_hidden": false
        },
        "nteract": {
          "transient": {
            "deleting": false
          }
        },
        "gather": {
          "logged": 1638698769963
        }
      }
    },
    {
      "cell_type": "markdown",
      "source": [
        "#### *Save the Model in working directory*\n"
      ],
      "metadata": {
        "id": "NXIEuL3w_Of7"
      }
    },
    {
      "cell_type": "code",
      "source": [
        "save_directory = './model'"
      ],
      "outputs": [],
      "execution_count": 18,
      "metadata": {
        "id": "yKWHVpsPUUTN",
        "gather": {
          "logged": 1638697516878
        }
      }
    },
    {
      "cell_type": "code",
      "source": [
        "model.save_pretrained(save_directory)\n",
        "tokenizer.save_pretrained(save_directory)"
      ],
      "outputs": [
        {
          "output_type": "execute_result",
          "execution_count": 19,
          "data": {
            "text/plain": "('./model/tokenizer_config.json',\n './model/special_tokens_map.json',\n './model/vocab.txt',\n './model/added_tokens.json')"
          },
          "metadata": {}
        }
      ],
      "execution_count": 19,
      "metadata": {
        "id": "luMhaAwF_N0d",
        "gather": {
          "logged": 1638697522971
        }
      }
    },
    {
      "cell_type": "markdown",
      "source": [
        "\n",
        "#### *Loading the Model*"
      ],
      "metadata": {
        "id": "VW8svpW5Aaiq"
      }
    },
    {
      "cell_type": "code",
      "source": [
        "save_directory = './model'"
      ],
      "outputs": [],
      "execution_count": 20,
      "metadata": {
        "id": "0D3LuAirUszH",
        "gather": {
          "logged": 1638697539766
        }
      }
    },
    {
      "cell_type": "code",
      "source": [
        "loaded_tokenizer = DistilBertTokenizer.from_pretrained(save_directory)\n",
        "loaded_model = TFDistilBertForSequenceClassification.from_pretrained(save_directory)"
      ],
      "outputs": [
        {
          "output_type": "stream",
          "name": "stderr",
          "text": "Some layers from the model checkpoint at ./model were not used when initializing TFDistilBertForSequenceClassification: ['dropout_19']\n- This IS expected if you are initializing TFDistilBertForSequenceClassification from the checkpoint of a model trained on another task or with another architecture (e.g. initializing a BertForSequenceClassification model from a BertForPreTraining model).\n- This IS NOT expected if you are initializing TFDistilBertForSequenceClassification from the checkpoint of a model that you expect to be exactly identical (initializing a BertForSequenceClassification model from a BertForSequenceClassification model).\nSome layers of TFDistilBertForSequenceClassification were not initialized from the model checkpoint at ./model and are newly initialized: ['dropout_39']\nYou should probably TRAIN this model on a down-stream task to be able to use it for predictions and inference.\n"
        }
      ],
      "execution_count": 21,
      "metadata": {
        "id": "VEgb16CRUjb-",
        "gather": {
          "logged": 1638697550694
        }
      }
    },
    {
      "cell_type": "markdown",
      "source": [
        "#### *Testing on Custom Data*"
      ],
      "metadata": {
        "id": "o_9chHCJU0I7"
      }
    },
    {
      "cell_type": "code",
      "source": [
        "def prediction(test_text):\n",
        "    predict_input = loaded_tokenizer.encode(test_text,\n",
        "                                    truncation=True,\n",
        "                                    padding=True,\n",
        "                                    return_tensors=\"tf\")\n",
        "\n",
        "    output = loaded_model(predict_input)[0]\n",
        "\n",
        "    prediction_value = tf.argmax(output, axis=1).numpy()[0]\n",
        "    \n",
        "    if (prediction_value == 1):\n",
        "        label = \"Biased\"\n",
        "    elif (prediction_value == 0):\n",
        "        label = 'Non-biased'\n",
        "    \n",
        "    return label"
      ],
      "outputs": [],
      "execution_count": 27,
      "metadata": {
        "id": "pa3jIzZCU1M0",
        "gather": {
          "logged": 1638697649744
        }
      }
    },
    {
      "cell_type": "code",
      "source": [
        "#test_text = \"men are highly talented than women in many skills\"\n",
        "test_text = \"There was an attack in Mali by a group of people\"\n",
        "prediction(test_text)"
      ],
      "outputs": [
        {
          "output_type": "execute_result",
          "execution_count": 34,
          "data": {
            "text/plain": "'Non-biased'"
          },
          "metadata": {}
        }
      ],
      "execution_count": 34,
      "metadata": {
        "id": "hHF7GF5jVMJD",
        "gather": {
          "logged": 1638697761659
        }
      }
    },
    {
      "cell_type": "markdown",
      "source": [
        "#### *Classification Metrics*"
      ],
      "metadata": {
        "nteract": {
          "transient": {
            "deleting": false
          }
        }
      }
    },
    {
      "cell_type": "code",
      "source": [
        "def prediction(test_text):\r\n",
        "    predict_input = loaded_tokenizer.encode(test_text,\r\n",
        "                                    truncation=True,\r\n",
        "                                    padding=True,\r\n",
        "                                    return_tensors=\"tf\")\r\n",
        "\r\n",
        "    output = loaded_model(predict_input)[0]\r\n",
        "\r\n",
        "    prediction_value = tf.argmax(output, axis=1).numpy()[0]\r\n",
        "\r\n",
        "    return prediction_value"
      ],
      "outputs": [],
      "execution_count": 64,
      "metadata": {
        "jupyter": {
          "source_hidden": false,
          "outputs_hidden": false
        },
        "nteract": {
          "transient": {
            "deleting": false
          }
        },
        "gather": {
          "logged": 1638699904798
        }
      }
    },
    {
      "cell_type": "code",
      "source": [
        "preds = []\r\n",
        "for text in val_texts:\r\n",
        "    predicted = prediction(text)\r\n",
        "    preds.append(predicted)"
      ],
      "outputs": [],
      "execution_count": 66,
      "metadata": {
        "jupyter": {
          "source_hidden": false,
          "outputs_hidden": false
        },
        "nteract": {
          "transient": {
            "deleting": false
          }
        },
        "gather": {
          "logged": 1638700040362
        }
      }
    },
    {
      "cell_type": "code",
      "source": [
        "from sklearn.metrics import classification_report\r\n",
        "\r\n",
        "print(classification_report(val_labels, preds))"
      ],
      "outputs": [
        {
          "output_type": "stream",
          "name": "stdout",
          "text": "              precision    recall  f1-score   support\n\n           0       0.54      0.54      0.54       724\n           1       0.68      0.68      0.68      1054\n\n    accuracy                           0.63      1778\n   macro avg       0.61      0.61      0.61      1778\nweighted avg       0.63      0.63      0.63      1778\n\n"
        }
      ],
      "execution_count": 81,
      "metadata": {
        "jupyter": {
          "source_hidden": false,
          "outputs_hidden": false
        },
        "nteract": {
          "transient": {
            "deleting": false
          }
        },
        "gather": {
          "logged": 1638700388963
        }
      }
    }
  ],
  "metadata": {
    "colab": {
      "name": "Classification Model - Training.ipynb",
      "provenance": [],
      "collapsed_sections": []
    },
    "kernelspec": {
      "name": "python3",
      "language": "python",
      "display_name": "Python 3"
    },
    "language_info": {
      "name": "python",
      "version": "3.6.9",
      "mimetype": "text/x-python",
      "codemirror_mode": {
        "name": "ipython",
        "version": 3
      },
      "pygments_lexer": "ipython3",
      "nbconvert_exporter": "python",
      "file_extension": ".py"
    },
    "accelerator": "GPU",
    "widgets": {
      "application/vnd.jupyter.widget-state+json": {
        "5a852e6ee48a4e7996768297ffdea039": {
          "model_module": "@jupyter-widgets/controls",
          "model_name": "HBoxModel",
          "model_module_version": "1.5.0",
          "state": {
            "_view_module_version": "1.5.0",
            "_model_name": "HBoxModel",
            "_model_module": "@jupyter-widgets/controls",
            "_view_name": "HBoxView",
            "_view_module": "@jupyter-widgets/controls",
            "_dom_classes": [],
            "layout": "IPY_MODEL_13841b9545b645249880eefcd41fc555",
            "_view_count": null,
            "_model_module_version": "1.5.0",
            "box_style": "",
            "children": [
              "IPY_MODEL_1a06f1680a2a4de28e5ce26edd05bdca",
              "IPY_MODEL_2c7d3c2bb50e49ee8c381b1bff04e1fa",
              "IPY_MODEL_2399cac80dd04c6a8fff3b9ffed44d38"
            ]
          }
        },
        "ac2e615e906c4122bcf4cba9e9f142eb": {
          "model_module": "@jupyter-widgets/controls",
          "model_name": "DescriptionStyleModel",
          "model_module_version": "1.5.0",
          "state": {
            "_view_name": "StyleView",
            "_model_name": "DescriptionStyleModel",
            "description_width": "",
            "_view_module": "@jupyter-widgets/base",
            "_model_module_version": "1.5.0",
            "_view_count": null,
            "_view_module_version": "1.2.0",
            "_model_module": "@jupyter-widgets/controls"
          }
        },
        "e9add99fdf854d76b4ec899ff077cea2": {
          "model_module": "@jupyter-widgets/controls",
          "model_name": "HTMLModel",
          "model_module_version": "1.5.0",
          "state": {
            "_view_module_version": "1.5.0",
            "description_tooltip": null,
            "_model_name": "HTMLModel",
            "_model_module": "@jupyter-widgets/controls",
            "_view_name": "HTMLView",
            "_view_module": "@jupyter-widgets/controls",
            "_dom_classes": [],
            "layout": "IPY_MODEL_879d696bc3d64b7c9def081889f8c463",
            "value": " 455k/455k [00:00&lt;00:00, 917kB/s]",
            "style": "IPY_MODEL_db166eb3744840e39782102e19d9d799",
            "placeholder": "​",
            "_view_count": null,
            "_model_module_version": "1.5.0",
            "description": ""
          }
        },
        "0ada8f0f53144ed988659d3f09130ba0": {
          "model_module": "@jupyter-widgets/base",
          "model_name": "LayoutModel",
          "model_module_version": "1.2.0",
          "state": {
            "_view_module_version": "1.2.0",
            "_model_name": "LayoutModel",
            "grid_row": null,
            "_model_module": "@jupyter-widgets/base",
            "overflow": null,
            "max_height": null,
            "display": null,
            "grid_auto_flow": null,
            "grid_template_rows": null,
            "align_self": null,
            "grid_auto_columns": null,
            "width": null,
            "grid_area": null,
            "align_items": null,
            "_view_name": "LayoutView",
            "left": null,
            "height": null,
            "_view_module": "@jupyter-widgets/base",
            "object_position": null,
            "justify_content": null,
            "bottom": null,
            "max_width": null,
            "border": null,
            "margin": null,
            "order": null,
            "grid_column": null,
            "grid_auto_rows": null,
            "padding": null,
            "grid_template_columns": null,
            "justify_items": null,
            "object_fit": null,
            "visibility": null,
            "_view_count": null,
            "flex_flow": null,
            "min_height": null,
            "top": null,
            "min_width": null,
            "flex": null,
            "_model_module_version": "1.2.0",
            "grid_template_areas": null,
            "overflow_x": null,
            "right": null,
            "overflow_y": null,
            "grid_gap": null,
            "align_content": null
          }
        },
        "982a628b8ee447b7bcd1c08719d60996": {
          "model_module": "@jupyter-widgets/base",
          "model_name": "LayoutModel",
          "model_module_version": "1.2.0",
          "state": {
            "_view_module_version": "1.2.0",
            "_model_name": "LayoutModel",
            "grid_row": null,
            "_model_module": "@jupyter-widgets/base",
            "overflow": null,
            "max_height": null,
            "display": null,
            "grid_auto_flow": null,
            "grid_template_rows": null,
            "align_self": null,
            "grid_auto_columns": null,
            "width": null,
            "grid_area": null,
            "align_items": null,
            "_view_name": "LayoutView",
            "left": null,
            "height": null,
            "_view_module": "@jupyter-widgets/base",
            "object_position": null,
            "justify_content": null,
            "bottom": null,
            "max_width": null,
            "border": null,
            "margin": null,
            "order": null,
            "grid_column": null,
            "grid_auto_rows": null,
            "padding": null,
            "grid_template_columns": null,
            "justify_items": null,
            "object_fit": null,
            "visibility": null,
            "_view_count": null,
            "flex_flow": null,
            "min_height": null,
            "top": null,
            "min_width": null,
            "flex": null,
            "_model_module_version": "1.2.0",
            "grid_template_areas": null,
            "overflow_x": null,
            "right": null,
            "overflow_y": null,
            "grid_gap": null,
            "align_content": null
          }
        },
        "6c97078cdd0f4339b65b6e13a20fb951": {
          "model_module": "@jupyter-widgets/controls",
          "model_name": "HTMLModel",
          "model_module_version": "1.5.0",
          "state": {
            "_view_module_version": "1.5.0",
            "description_tooltip": null,
            "_model_name": "HTMLModel",
            "_model_module": "@jupyter-widgets/controls",
            "_view_name": "HTMLView",
            "_view_module": "@jupyter-widgets/controls",
            "_dom_classes": [],
            "layout": "IPY_MODEL_c52f9e538119406fa0f0996285e4273d",
            "value": " 226k/226k [00:00&lt;00:00, 630kB/s]",
            "style": "IPY_MODEL_b1abf5032469472b8ba8e84b1ec89431",
            "placeholder": "​",
            "_view_count": null,
            "_model_module_version": "1.5.0",
            "description": ""
          }
        },
        "067a30a8504448e18f0f9dc7f19c9424": {
          "model_module": "@jupyter-widgets/base",
          "model_name": "LayoutModel",
          "model_module_version": "1.2.0",
          "state": {
            "_view_module_version": "1.2.0",
            "_model_name": "LayoutModel",
            "grid_row": null,
            "_model_module": "@jupyter-widgets/base",
            "overflow": null,
            "max_height": null,
            "display": null,
            "grid_auto_flow": null,
            "grid_template_rows": null,
            "align_self": null,
            "grid_auto_columns": null,
            "width": null,
            "grid_area": null,
            "align_items": null,
            "_view_name": "LayoutView",
            "left": null,
            "height": null,
            "_view_module": "@jupyter-widgets/base",
            "object_position": null,
            "justify_content": null,
            "bottom": null,
            "max_width": null,
            "border": null,
            "margin": null,
            "order": null,
            "grid_column": null,
            "grid_auto_rows": null,
            "padding": null,
            "grid_template_columns": null,
            "justify_items": null,
            "object_fit": null,
            "visibility": null,
            "_view_count": null,
            "flex_flow": null,
            "min_height": null,
            "top": null,
            "min_width": null,
            "flex": null,
            "_model_module_version": "1.2.0",
            "grid_template_areas": null,
            "overflow_x": null,
            "right": null,
            "overflow_y": null,
            "grid_gap": null,
            "align_content": null
          }
        },
        "f225a899a2284fadbc57144f8a7a857a": {
          "model_module": "@jupyter-widgets/base",
          "model_name": "LayoutModel",
          "model_module_version": "1.2.0",
          "state": {
            "_view_module_version": "1.2.0",
            "_model_name": "LayoutModel",
            "grid_row": null,
            "_model_module": "@jupyter-widgets/base",
            "overflow": null,
            "max_height": null,
            "display": null,
            "grid_auto_flow": null,
            "grid_template_rows": null,
            "align_self": null,
            "grid_auto_columns": null,
            "width": null,
            "grid_area": null,
            "align_items": null,
            "_view_name": "LayoutView",
            "left": null,
            "height": null,
            "_view_module": "@jupyter-widgets/base",
            "object_position": null,
            "justify_content": null,
            "bottom": null,
            "max_width": null,
            "border": null,
            "margin": null,
            "order": null,
            "grid_column": null,
            "grid_auto_rows": null,
            "padding": null,
            "grid_template_columns": null,
            "justify_items": null,
            "object_fit": null,
            "visibility": null,
            "_view_count": null,
            "flex_flow": null,
            "min_height": null,
            "top": null,
            "min_width": null,
            "flex": null,
            "_model_module_version": "1.2.0",
            "grid_template_areas": null,
            "overflow_x": null,
            "right": null,
            "overflow_y": null,
            "grid_gap": null,
            "align_content": null
          }
        },
        "04e4b3c2fe2f48e7a36ef9670606947d": {
          "model_module": "@jupyter-widgets/base",
          "model_name": "LayoutModel",
          "model_module_version": "1.2.0",
          "state": {
            "_view_module_version": "1.2.0",
            "_model_name": "LayoutModel",
            "grid_row": null,
            "_model_module": "@jupyter-widgets/base",
            "overflow": null,
            "max_height": null,
            "display": null,
            "grid_auto_flow": null,
            "grid_template_rows": null,
            "align_self": null,
            "grid_auto_columns": null,
            "width": null,
            "grid_area": null,
            "align_items": null,
            "_view_name": "LayoutView",
            "left": null,
            "height": null,
            "_view_module": "@jupyter-widgets/base",
            "object_position": null,
            "justify_content": null,
            "bottom": null,
            "max_width": null,
            "border": null,
            "margin": null,
            "order": null,
            "grid_column": null,
            "grid_auto_rows": null,
            "padding": null,
            "grid_template_columns": null,
            "justify_items": null,
            "object_fit": null,
            "visibility": null,
            "_view_count": null,
            "flex_flow": null,
            "min_height": null,
            "top": null,
            "min_width": null,
            "flex": null,
            "_model_module_version": "1.2.0",
            "grid_template_areas": null,
            "overflow_x": null,
            "right": null,
            "overflow_y": null,
            "grid_gap": null,
            "align_content": null
          }
        },
        "5aba264b3fea42e49e8f70055508d2ca": {
          "model_module": "@jupyter-widgets/controls",
          "model_name": "DescriptionStyleModel",
          "model_module_version": "1.5.0",
          "state": {
            "_view_name": "StyleView",
            "_model_name": "DescriptionStyleModel",
            "description_width": "",
            "_view_module": "@jupyter-widgets/base",
            "_model_module_version": "1.5.0",
            "_view_count": null,
            "_view_module_version": "1.2.0",
            "_model_module": "@jupyter-widgets/controls"
          }
        },
        "2c606689f16b4c188314ed90912a1e52": {
          "model_module": "@jupyter-widgets/base",
          "model_name": "LayoutModel",
          "model_module_version": "1.2.0",
          "state": {
            "_view_module_version": "1.2.0",
            "_model_name": "LayoutModel",
            "grid_row": null,
            "_model_module": "@jupyter-widgets/base",
            "overflow": null,
            "max_height": null,
            "display": null,
            "grid_auto_flow": null,
            "grid_template_rows": null,
            "align_self": null,
            "grid_auto_columns": null,
            "width": null,
            "grid_area": null,
            "align_items": null,
            "_view_name": "LayoutView",
            "left": null,
            "height": null,
            "_view_module": "@jupyter-widgets/base",
            "object_position": null,
            "justify_content": null,
            "bottom": null,
            "max_width": null,
            "border": null,
            "margin": null,
            "order": null,
            "grid_column": null,
            "grid_auto_rows": null,
            "padding": null,
            "grid_template_columns": null,
            "justify_items": null,
            "object_fit": null,
            "visibility": null,
            "_view_count": null,
            "flex_flow": null,
            "min_height": null,
            "top": null,
            "min_width": null,
            "flex": null,
            "_model_module_version": "1.2.0",
            "grid_template_areas": null,
            "overflow_x": null,
            "right": null,
            "overflow_y": null,
            "grid_gap": null,
            "align_content": null
          }
        },
        "c3f57a847689444aa46d17f472de6f2d": {
          "model_module": "@jupyter-widgets/controls",
          "model_name": "DescriptionStyleModel",
          "model_module_version": "1.5.0",
          "state": {
            "_view_name": "StyleView",
            "_model_name": "DescriptionStyleModel",
            "description_width": "",
            "_view_module": "@jupyter-widgets/base",
            "_model_module_version": "1.5.0",
            "_view_count": null,
            "_view_module_version": "1.2.0",
            "_model_module": "@jupyter-widgets/controls"
          }
        },
        "b7a2e55e37c44533909633fa8546b27b": {
          "model_module": "@jupyter-widgets/base",
          "model_name": "LayoutModel",
          "model_module_version": "1.2.0",
          "state": {
            "_view_module_version": "1.2.0",
            "_model_name": "LayoutModel",
            "grid_row": null,
            "_model_module": "@jupyter-widgets/base",
            "overflow": null,
            "max_height": null,
            "display": null,
            "grid_auto_flow": null,
            "grid_template_rows": null,
            "align_self": null,
            "grid_auto_columns": null,
            "width": null,
            "grid_area": null,
            "align_items": null,
            "_view_name": "LayoutView",
            "left": null,
            "height": null,
            "_view_module": "@jupyter-widgets/base",
            "object_position": null,
            "justify_content": null,
            "bottom": null,
            "max_width": null,
            "border": null,
            "margin": null,
            "order": null,
            "grid_column": null,
            "grid_auto_rows": null,
            "padding": null,
            "grid_template_columns": null,
            "justify_items": null,
            "object_fit": null,
            "visibility": null,
            "_view_count": null,
            "flex_flow": null,
            "min_height": null,
            "top": null,
            "min_width": null,
            "flex": null,
            "_model_module_version": "1.2.0",
            "grid_template_areas": null,
            "overflow_x": null,
            "right": null,
            "overflow_y": null,
            "grid_gap": null,
            "align_content": null
          }
        },
        "e5db0747de2042afb7b7cd2e3b3708a4": {
          "model_module": "@jupyter-widgets/controls",
          "model_name": "FloatProgressModel",
          "model_module_version": "1.5.0",
          "state": {
            "_view_module_version": "1.5.0",
            "description_tooltip": null,
            "_model_name": "FloatProgressModel",
            "_model_module": "@jupyter-widgets/controls",
            "max": 363423424,
            "bar_style": "success",
            "_view_name": "ProgressView",
            "_view_module": "@jupyter-widgets/controls",
            "_dom_classes": [],
            "layout": "IPY_MODEL_cd8eacea68b1499ab8af31e799e8553a",
            "orientation": "horizontal",
            "value": 363423424,
            "style": "IPY_MODEL_ae7572dd8d0b48b58f71fb6ed4f6c510",
            "min": 0,
            "_view_count": null,
            "_model_module_version": "1.5.0",
            "description": ""
          }
        },
        "2ace8874e1b7487d81c5002e8c0534b9": {
          "model_module": "@jupyter-widgets/controls",
          "model_name": "HTMLModel",
          "model_module_version": "1.5.0",
          "state": {
            "_view_module_version": "1.5.0",
            "description_tooltip": null,
            "_model_name": "HTMLModel",
            "_model_module": "@jupyter-widgets/controls",
            "_view_name": "HTMLView",
            "_view_module": "@jupyter-widgets/controls",
            "_dom_classes": [],
            "layout": "IPY_MODEL_b7a2e55e37c44533909633fa8546b27b",
            "value": "Downloading: 100%",
            "style": "IPY_MODEL_a0cf9be945c4480d9ddc583cc1aebd64",
            "placeholder": "​",
            "_view_count": null,
            "_model_module_version": "1.5.0",
            "description": ""
          }
        },
        "db166eb3744840e39782102e19d9d799": {
          "model_module": "@jupyter-widgets/controls",
          "model_name": "DescriptionStyleModel",
          "model_module_version": "1.5.0",
          "state": {
            "_view_name": "StyleView",
            "_model_name": "DescriptionStyleModel",
            "description_width": "",
            "_view_module": "@jupyter-widgets/base",
            "_model_module_version": "1.5.0",
            "_view_count": null,
            "_view_module_version": "1.2.0",
            "_model_module": "@jupyter-widgets/controls"
          }
        },
        "2c7d3c2bb50e49ee8c381b1bff04e1fa": {
          "model_module": "@jupyter-widgets/controls",
          "model_name": "FloatProgressModel",
          "model_module_version": "1.5.0",
          "state": {
            "_view_module_version": "1.5.0",
            "description_tooltip": null,
            "_model_name": "FloatProgressModel",
            "_model_module": "@jupyter-widgets/controls",
            "max": 483,
            "bar_style": "success",
            "_view_name": "ProgressView",
            "_view_module": "@jupyter-widgets/controls",
            "_dom_classes": [],
            "layout": "IPY_MODEL_304609b15c34425e8b40e010d97e8e47",
            "orientation": "horizontal",
            "value": 483,
            "style": "IPY_MODEL_0753843a7a2e4fd59cde598bf824dc13",
            "min": 0,
            "_view_count": null,
            "_model_module_version": "1.5.0",
            "description": ""
          }
        },
        "a0cf9be945c4480d9ddc583cc1aebd64": {
          "model_module": "@jupyter-widgets/controls",
          "model_name": "DescriptionStyleModel",
          "model_module_version": "1.5.0",
          "state": {
            "_view_name": "StyleView",
            "_model_name": "DescriptionStyleModel",
            "description_width": "",
            "_view_module": "@jupyter-widgets/base",
            "_model_module_version": "1.5.0",
            "_view_count": null,
            "_view_module_version": "1.2.0",
            "_model_module": "@jupyter-widgets/controls"
          }
        },
        "4921473b4d6948daaf8d082f46f78a91": {
          "model_module": "@jupyter-widgets/controls",
          "model_name": "HBoxModel",
          "model_module_version": "1.5.0",
          "state": {
            "_view_module_version": "1.5.0",
            "_model_name": "HBoxModel",
            "_model_module": "@jupyter-widgets/controls",
            "_view_name": "HBoxView",
            "_view_module": "@jupyter-widgets/controls",
            "_dom_classes": [],
            "layout": "IPY_MODEL_067a30a8504448e18f0f9dc7f19c9424",
            "_view_count": null,
            "_model_module_version": "1.5.0",
            "box_style": "",
            "children": [
              "IPY_MODEL_d60b2d830b3643468b70c19ed3f09451",
              "IPY_MODEL_65f2e5de77924f278a786ab5336062c1",
              "IPY_MODEL_5f71ab94c9c24617ae3e78da1867aa54"
            ]
          }
        },
        "cfb65eaa0cd24af8a98813a1d6de4529": {
          "model_module": "@jupyter-widgets/controls",
          "model_name": "ProgressStyleModel",
          "model_module_version": "1.5.0",
          "state": {
            "_view_module_version": "1.2.0",
            "_model_name": "ProgressStyleModel",
            "_model_module": "@jupyter-widgets/controls",
            "description_width": "",
            "_view_name": "StyleView",
            "_view_module": "@jupyter-widgets/base",
            "_view_count": null,
            "bar_color": null,
            "_model_module_version": "1.5.0"
          }
        },
        "1a40f86077ab47a5a9afc3cdb63ac045": {
          "model_module": "@jupyter-widgets/base",
          "model_name": "LayoutModel",
          "model_module_version": "1.2.0",
          "state": {
            "_view_module_version": "1.2.0",
            "_model_name": "LayoutModel",
            "grid_row": null,
            "_model_module": "@jupyter-widgets/base",
            "overflow": null,
            "max_height": null,
            "display": null,
            "grid_auto_flow": null,
            "grid_template_rows": null,
            "align_self": null,
            "grid_auto_columns": null,
            "width": null,
            "grid_area": null,
            "align_items": null,
            "_view_name": "LayoutView",
            "left": null,
            "height": null,
            "_view_module": "@jupyter-widgets/base",
            "object_position": null,
            "justify_content": null,
            "bottom": null,
            "max_width": null,
            "border": null,
            "margin": null,
            "order": null,
            "grid_column": null,
            "grid_auto_rows": null,
            "padding": null,
            "grid_template_columns": null,
            "justify_items": null,
            "object_fit": null,
            "visibility": null,
            "_view_count": null,
            "flex_flow": null,
            "min_height": null,
            "top": null,
            "min_width": null,
            "flex": null,
            "_model_module_version": "1.2.0",
            "grid_template_areas": null,
            "overflow_x": null,
            "right": null,
            "overflow_y": null,
            "grid_gap": null,
            "align_content": null
          }
        },
        "13841b9545b645249880eefcd41fc555": {
          "model_module": "@jupyter-widgets/base",
          "model_name": "LayoutModel",
          "model_module_version": "1.2.0",
          "state": {
            "_view_module_version": "1.2.0",
            "_model_name": "LayoutModel",
            "grid_row": null,
            "_model_module": "@jupyter-widgets/base",
            "overflow": null,
            "max_height": null,
            "display": null,
            "grid_auto_flow": null,
            "grid_template_rows": null,
            "align_self": null,
            "grid_auto_columns": null,
            "width": null,
            "grid_area": null,
            "align_items": null,
            "_view_name": "LayoutView",
            "left": null,
            "height": null,
            "_view_module": "@jupyter-widgets/base",
            "object_position": null,
            "justify_content": null,
            "bottom": null,
            "max_width": null,
            "border": null,
            "margin": null,
            "order": null,
            "grid_column": null,
            "grid_auto_rows": null,
            "padding": null,
            "grid_template_columns": null,
            "justify_items": null,
            "object_fit": null,
            "visibility": null,
            "_view_count": null,
            "flex_flow": null,
            "min_height": null,
            "top": null,
            "min_width": null,
            "flex": null,
            "_model_module_version": "1.2.0",
            "grid_template_areas": null,
            "overflow_x": null,
            "right": null,
            "overflow_y": null,
            "grid_gap": null,
            "align_content": null
          }
        },
        "f7b32be5f7cd4338bbe4f5db89a9a3f5": {
          "model_module": "@jupyter-widgets/base",
          "model_name": "LayoutModel",
          "model_module_version": "1.2.0",
          "state": {
            "_view_module_version": "1.2.0",
            "_model_name": "LayoutModel",
            "grid_row": null,
            "_model_module": "@jupyter-widgets/base",
            "overflow": null,
            "max_height": null,
            "display": null,
            "grid_auto_flow": null,
            "grid_template_rows": null,
            "align_self": null,
            "grid_auto_columns": null,
            "width": null,
            "grid_area": null,
            "align_items": null,
            "_view_name": "LayoutView",
            "left": null,
            "height": null,
            "_view_module": "@jupyter-widgets/base",
            "object_position": null,
            "justify_content": null,
            "bottom": null,
            "max_width": null,
            "border": null,
            "margin": null,
            "order": null,
            "grid_column": null,
            "grid_auto_rows": null,
            "padding": null,
            "grid_template_columns": null,
            "justify_items": null,
            "object_fit": null,
            "visibility": null,
            "_view_count": null,
            "flex_flow": null,
            "min_height": null,
            "top": null,
            "min_width": null,
            "flex": null,
            "_model_module_version": "1.2.0",
            "grid_template_areas": null,
            "overflow_x": null,
            "right": null,
            "overflow_y": null,
            "grid_gap": null,
            "align_content": null
          }
        },
        "5f71ab94c9c24617ae3e78da1867aa54": {
          "model_module": "@jupyter-widgets/controls",
          "model_name": "HTMLModel",
          "model_module_version": "1.5.0",
          "state": {
            "_view_module_version": "1.5.0",
            "description_tooltip": null,
            "_model_name": "HTMLModel",
            "_model_module": "@jupyter-widgets/controls",
            "_view_name": "HTMLView",
            "_view_module": "@jupyter-widgets/controls",
            "_dom_classes": [],
            "layout": "IPY_MODEL_f7b32be5f7cd4338bbe4f5db89a9a3f5",
            "value": " 28.0/28.0 [00:00&lt;00:00, 675B/s]",
            "style": "IPY_MODEL_c3f57a847689444aa46d17f472de6f2d",
            "placeholder": "​",
            "_view_count": null,
            "_model_module_version": "1.5.0",
            "description": ""
          }
        },
        "beea65fb2afa453a9f1cfef7ef349a25": {
          "model_module": "@jupyter-widgets/base",
          "model_name": "LayoutModel",
          "model_module_version": "1.2.0",
          "state": {
            "_view_module_version": "1.2.0",
            "_model_name": "LayoutModel",
            "grid_row": null,
            "_model_module": "@jupyter-widgets/base",
            "overflow": null,
            "max_height": null,
            "display": null,
            "grid_auto_flow": null,
            "grid_template_rows": null,
            "align_self": null,
            "grid_auto_columns": null,
            "width": null,
            "grid_area": null,
            "align_items": null,
            "_view_name": "LayoutView",
            "left": null,
            "height": null,
            "_view_module": "@jupyter-widgets/base",
            "object_position": null,
            "justify_content": null,
            "bottom": null,
            "max_width": null,
            "border": null,
            "margin": null,
            "order": null,
            "grid_column": null,
            "grid_auto_rows": null,
            "padding": null,
            "grid_template_columns": null,
            "justify_items": null,
            "object_fit": null,
            "visibility": null,
            "_view_count": null,
            "flex_flow": null,
            "min_height": null,
            "top": null,
            "min_width": null,
            "flex": null,
            "_model_module_version": "1.2.0",
            "grid_template_areas": null,
            "overflow_x": null,
            "right": null,
            "overflow_y": null,
            "grid_gap": null,
            "align_content": null
          }
        },
        "d8cd1d70139b4b6f9a0963aab4a7388b": {
          "model_module": "@jupyter-widgets/controls",
          "model_name": "FloatProgressModel",
          "model_module_version": "1.5.0",
          "state": {
            "_view_module_version": "1.5.0",
            "description_tooltip": null,
            "_model_name": "FloatProgressModel",
            "_model_module": "@jupyter-widgets/controls",
            "max": 231508,
            "bar_style": "success",
            "_view_name": "ProgressView",
            "_view_module": "@jupyter-widgets/controls",
            "_dom_classes": [],
            "layout": "IPY_MODEL_2273efb66fdf4255a046e6fed5d9dd7d",
            "orientation": "horizontal",
            "value": 231508,
            "style": "IPY_MODEL_cfb65eaa0cd24af8a98813a1d6de4529",
            "min": 0,
            "_view_count": null,
            "_model_module_version": "1.5.0",
            "description": ""
          }
        },
        "714d9ace8d864af8a8e6e4854b57fe5d": {
          "model_module": "@jupyter-widgets/controls",
          "model_name": "DescriptionStyleModel",
          "model_module_version": "1.5.0",
          "state": {
            "_view_name": "StyleView",
            "_model_name": "DescriptionStyleModel",
            "description_width": "",
            "_view_module": "@jupyter-widgets/base",
            "_model_module_version": "1.5.0",
            "_view_count": null,
            "_view_module_version": "1.2.0",
            "_model_module": "@jupyter-widgets/controls"
          }
        },
        "f65524347ad54f3a81f4cdd7399b04a5": {
          "model_module": "@jupyter-widgets/controls",
          "model_name": "DescriptionStyleModel",
          "model_module_version": "1.5.0",
          "state": {
            "_view_name": "StyleView",
            "_model_name": "DescriptionStyleModel",
            "description_width": "",
            "_view_module": "@jupyter-widgets/base",
            "_model_module_version": "1.5.0",
            "_view_count": null,
            "_view_module_version": "1.2.0",
            "_model_module": "@jupyter-widgets/controls"
          }
        },
        "afcf8e77872a450685695e22f988e84d": {
          "model_module": "@jupyter-widgets/controls",
          "model_name": "FloatProgressModel",
          "model_module_version": "1.5.0",
          "state": {
            "_view_module_version": "1.5.0",
            "description_tooltip": null,
            "_model_name": "FloatProgressModel",
            "_model_module": "@jupyter-widgets/controls",
            "max": 466062,
            "bar_style": "success",
            "_view_name": "ProgressView",
            "_view_module": "@jupyter-widgets/controls",
            "_dom_classes": [],
            "layout": "IPY_MODEL_0ada8f0f53144ed988659d3f09130ba0",
            "orientation": "horizontal",
            "value": 466062,
            "style": "IPY_MODEL_fd1b079496dd4633b99f5e7abc55d444",
            "min": 0,
            "_view_count": null,
            "_model_module_version": "1.5.0",
            "description": ""
          }
        },
        "879d696bc3d64b7c9def081889f8c463": {
          "model_module": "@jupyter-widgets/base",
          "model_name": "LayoutModel",
          "model_module_version": "1.2.0",
          "state": {
            "_view_module_version": "1.2.0",
            "_model_name": "LayoutModel",
            "grid_row": null,
            "_model_module": "@jupyter-widgets/base",
            "overflow": null,
            "max_height": null,
            "display": null,
            "grid_auto_flow": null,
            "grid_template_rows": null,
            "align_self": null,
            "grid_auto_columns": null,
            "width": null,
            "grid_area": null,
            "align_items": null,
            "_view_name": "LayoutView",
            "left": null,
            "height": null,
            "_view_module": "@jupyter-widgets/base",
            "object_position": null,
            "justify_content": null,
            "bottom": null,
            "max_width": null,
            "border": null,
            "margin": null,
            "order": null,
            "grid_column": null,
            "grid_auto_rows": null,
            "padding": null,
            "grid_template_columns": null,
            "justify_items": null,
            "object_fit": null,
            "visibility": null,
            "_view_count": null,
            "flex_flow": null,
            "min_height": null,
            "top": null,
            "min_width": null,
            "flex": null,
            "_model_module_version": "1.2.0",
            "grid_template_areas": null,
            "overflow_x": null,
            "right": null,
            "overflow_y": null,
            "grid_gap": null,
            "align_content": null
          }
        },
        "aab5c161db3c4fe9a690795bfa6e95cc": {
          "model_module": "@jupyter-widgets/controls",
          "model_name": "DescriptionStyleModel",
          "model_module_version": "1.5.0",
          "state": {
            "_view_name": "StyleView",
            "_model_name": "DescriptionStyleModel",
            "description_width": "",
            "_view_module": "@jupyter-widgets/base",
            "_model_module_version": "1.5.0",
            "_view_count": null,
            "_view_module_version": "1.2.0",
            "_model_module": "@jupyter-widgets/controls"
          }
        },
        "71211f544266454a9e77a6fd4a1de2e3": {
          "model_module": "@jupyter-widgets/base",
          "model_name": "LayoutModel",
          "model_module_version": "1.2.0",
          "state": {
            "_view_module_version": "1.2.0",
            "_model_name": "LayoutModel",
            "grid_row": null,
            "_model_module": "@jupyter-widgets/base",
            "overflow": null,
            "max_height": null,
            "display": null,
            "grid_auto_flow": null,
            "grid_template_rows": null,
            "align_self": null,
            "grid_auto_columns": null,
            "width": null,
            "grid_area": null,
            "align_items": null,
            "_view_name": "LayoutView",
            "left": null,
            "height": null,
            "_view_module": "@jupyter-widgets/base",
            "object_position": null,
            "justify_content": null,
            "bottom": null,
            "max_width": null,
            "border": null,
            "margin": null,
            "order": null,
            "grid_column": null,
            "grid_auto_rows": null,
            "padding": null,
            "grid_template_columns": null,
            "justify_items": null,
            "object_fit": null,
            "visibility": null,
            "_view_count": null,
            "flex_flow": null,
            "min_height": null,
            "top": null,
            "min_width": null,
            "flex": null,
            "_model_module_version": "1.2.0",
            "grid_template_areas": null,
            "overflow_x": null,
            "right": null,
            "overflow_y": null,
            "grid_gap": null,
            "align_content": null
          }
        },
        "d60b2d830b3643468b70c19ed3f09451": {
          "model_module": "@jupyter-widgets/controls",
          "model_name": "HTMLModel",
          "model_module_version": "1.5.0",
          "state": {
            "_view_module_version": "1.5.0",
            "description_tooltip": null,
            "_model_name": "HTMLModel",
            "_model_module": "@jupyter-widgets/controls",
            "_view_name": "HTMLView",
            "_view_module": "@jupyter-widgets/controls",
            "_dom_classes": [],
            "layout": "IPY_MODEL_4624fc9e76ed49b9abe09973390244cd",
            "value": "Downloading: 100%",
            "style": "IPY_MODEL_5aba264b3fea42e49e8f70055508d2ca",
            "placeholder": "​",
            "_view_count": null,
            "_model_module_version": "1.5.0",
            "description": ""
          }
        },
        "d6af7b7ba3cb438cb80f0bf260298713": {
          "model_module": "@jupyter-widgets/controls",
          "model_name": "HBoxModel",
          "model_module_version": "1.5.0",
          "state": {
            "_view_module_version": "1.5.0",
            "_model_name": "HBoxModel",
            "_model_module": "@jupyter-widgets/controls",
            "_view_name": "HBoxView",
            "_view_module": "@jupyter-widgets/controls",
            "_dom_classes": [],
            "layout": "IPY_MODEL_beea65fb2afa453a9f1cfef7ef349a25",
            "_view_count": null,
            "_model_module_version": "1.5.0",
            "box_style": "",
            "children": [
              "IPY_MODEL_2ace8874e1b7487d81c5002e8c0534b9",
              "IPY_MODEL_afcf8e77872a450685695e22f988e84d",
              "IPY_MODEL_e9add99fdf854d76b4ec899ff077cea2"
            ]
          }
        },
        "c52f9e538119406fa0f0996285e4273d": {
          "model_module": "@jupyter-widgets/base",
          "model_name": "LayoutModel",
          "model_module_version": "1.2.0",
          "state": {
            "_view_module_version": "1.2.0",
            "_model_name": "LayoutModel",
            "grid_row": null,
            "_model_module": "@jupyter-widgets/base",
            "overflow": null,
            "max_height": null,
            "display": null,
            "grid_auto_flow": null,
            "grid_template_rows": null,
            "align_self": null,
            "grid_auto_columns": null,
            "width": null,
            "grid_area": null,
            "align_items": null,
            "_view_name": "LayoutView",
            "left": null,
            "height": null,
            "_view_module": "@jupyter-widgets/base",
            "object_position": null,
            "justify_content": null,
            "bottom": null,
            "max_width": null,
            "border": null,
            "margin": null,
            "order": null,
            "grid_column": null,
            "grid_auto_rows": null,
            "padding": null,
            "grid_template_columns": null,
            "justify_items": null,
            "object_fit": null,
            "visibility": null,
            "_view_count": null,
            "flex_flow": null,
            "min_height": null,
            "top": null,
            "min_width": null,
            "flex": null,
            "_model_module_version": "1.2.0",
            "grid_template_areas": null,
            "overflow_x": null,
            "right": null,
            "overflow_y": null,
            "grid_gap": null,
            "align_content": null
          }
        },
        "2273efb66fdf4255a046e6fed5d9dd7d": {
          "model_module": "@jupyter-widgets/base",
          "model_name": "LayoutModel",
          "model_module_version": "1.2.0",
          "state": {
            "_view_module_version": "1.2.0",
            "_model_name": "LayoutModel",
            "grid_row": null,
            "_model_module": "@jupyter-widgets/base",
            "overflow": null,
            "max_height": null,
            "display": null,
            "grid_auto_flow": null,
            "grid_template_rows": null,
            "align_self": null,
            "grid_auto_columns": null,
            "width": null,
            "grid_area": null,
            "align_items": null,
            "_view_name": "LayoutView",
            "left": null,
            "height": null,
            "_view_module": "@jupyter-widgets/base",
            "object_position": null,
            "justify_content": null,
            "bottom": null,
            "max_width": null,
            "border": null,
            "margin": null,
            "order": null,
            "grid_column": null,
            "grid_auto_rows": null,
            "padding": null,
            "grid_template_columns": null,
            "justify_items": null,
            "object_fit": null,
            "visibility": null,
            "_view_count": null,
            "flex_flow": null,
            "min_height": null,
            "top": null,
            "min_width": null,
            "flex": null,
            "_model_module_version": "1.2.0",
            "grid_template_areas": null,
            "overflow_x": null,
            "right": null,
            "overflow_y": null,
            "grid_gap": null,
            "align_content": null
          }
        },
        "ae7572dd8d0b48b58f71fb6ed4f6c510": {
          "model_module": "@jupyter-widgets/controls",
          "model_name": "ProgressStyleModel",
          "model_module_version": "1.5.0",
          "state": {
            "_view_module_version": "1.2.0",
            "_model_name": "ProgressStyleModel",
            "_model_module": "@jupyter-widgets/controls",
            "description_width": "",
            "_view_name": "StyleView",
            "_view_module": "@jupyter-widgets/base",
            "_view_count": null,
            "bar_color": null,
            "_model_module_version": "1.5.0"
          }
        },
        "cd8eacea68b1499ab8af31e799e8553a": {
          "model_module": "@jupyter-widgets/base",
          "model_name": "LayoutModel",
          "model_module_version": "1.2.0",
          "state": {
            "_view_module_version": "1.2.0",
            "_model_name": "LayoutModel",
            "grid_row": null,
            "_model_module": "@jupyter-widgets/base",
            "overflow": null,
            "max_height": null,
            "display": null,
            "grid_auto_flow": null,
            "grid_template_rows": null,
            "align_self": null,
            "grid_auto_columns": null,
            "width": null,
            "grid_area": null,
            "align_items": null,
            "_view_name": "LayoutView",
            "left": null,
            "height": null,
            "_view_module": "@jupyter-widgets/base",
            "object_position": null,
            "justify_content": null,
            "bottom": null,
            "max_width": null,
            "border": null,
            "margin": null,
            "order": null,
            "grid_column": null,
            "grid_auto_rows": null,
            "padding": null,
            "grid_template_columns": null,
            "justify_items": null,
            "object_fit": null,
            "visibility": null,
            "_view_count": null,
            "flex_flow": null,
            "min_height": null,
            "top": null,
            "min_width": null,
            "flex": null,
            "_model_module_version": "1.2.0",
            "grid_template_areas": null,
            "overflow_x": null,
            "right": null,
            "overflow_y": null,
            "grid_gap": null,
            "align_content": null
          }
        },
        "0f6c95eb4202436e85f891331944f98c": {
          "model_module": "@jupyter-widgets/controls",
          "model_name": "HTMLModel",
          "model_module_version": "1.5.0",
          "state": {
            "_view_module_version": "1.5.0",
            "description_tooltip": null,
            "_model_name": "HTMLModel",
            "_model_module": "@jupyter-widgets/controls",
            "_view_name": "HTMLView",
            "_view_module": "@jupyter-widgets/controls",
            "_dom_classes": [],
            "layout": "IPY_MODEL_b40dd8248b4d49ccbbc692205b9253d2",
            "value": " 347M/347M [00:11&lt;00:00, 34.4MB/s]",
            "style": "IPY_MODEL_f65524347ad54f3a81f4cdd7399b04a5",
            "placeholder": "​",
            "_view_count": null,
            "_model_module_version": "1.5.0",
            "description": ""
          }
        },
        "b40dd8248b4d49ccbbc692205b9253d2": {
          "model_module": "@jupyter-widgets/base",
          "model_name": "LayoutModel",
          "model_module_version": "1.2.0",
          "state": {
            "_view_module_version": "1.2.0",
            "_model_name": "LayoutModel",
            "grid_row": null,
            "_model_module": "@jupyter-widgets/base",
            "overflow": null,
            "max_height": null,
            "display": null,
            "grid_auto_flow": null,
            "grid_template_rows": null,
            "align_self": null,
            "grid_auto_columns": null,
            "width": null,
            "grid_area": null,
            "align_items": null,
            "_view_name": "LayoutView",
            "left": null,
            "height": null,
            "_view_module": "@jupyter-widgets/base",
            "object_position": null,
            "justify_content": null,
            "bottom": null,
            "max_width": null,
            "border": null,
            "margin": null,
            "order": null,
            "grid_column": null,
            "grid_auto_rows": null,
            "padding": null,
            "grid_template_columns": null,
            "justify_items": null,
            "object_fit": null,
            "visibility": null,
            "_view_count": null,
            "flex_flow": null,
            "min_height": null,
            "top": null,
            "min_width": null,
            "flex": null,
            "_model_module_version": "1.2.0",
            "grid_template_areas": null,
            "overflow_x": null,
            "right": null,
            "overflow_y": null,
            "grid_gap": null,
            "align_content": null
          }
        },
        "304609b15c34425e8b40e010d97e8e47": {
          "model_module": "@jupyter-widgets/base",
          "model_name": "LayoutModel",
          "model_module_version": "1.2.0",
          "state": {
            "_view_module_version": "1.2.0",
            "_model_name": "LayoutModel",
            "grid_row": null,
            "_model_module": "@jupyter-widgets/base",
            "overflow": null,
            "max_height": null,
            "display": null,
            "grid_auto_flow": null,
            "grid_template_rows": null,
            "align_self": null,
            "grid_auto_columns": null,
            "width": null,
            "grid_area": null,
            "align_items": null,
            "_view_name": "LayoutView",
            "left": null,
            "height": null,
            "_view_module": "@jupyter-widgets/base",
            "object_position": null,
            "justify_content": null,
            "bottom": null,
            "max_width": null,
            "border": null,
            "margin": null,
            "order": null,
            "grid_column": null,
            "grid_auto_rows": null,
            "padding": null,
            "grid_template_columns": null,
            "justify_items": null,
            "object_fit": null,
            "visibility": null,
            "_view_count": null,
            "flex_flow": null,
            "min_height": null,
            "top": null,
            "min_width": null,
            "flex": null,
            "_model_module_version": "1.2.0",
            "grid_template_areas": null,
            "overflow_x": null,
            "right": null,
            "overflow_y": null,
            "grid_gap": null,
            "align_content": null
          }
        },
        "4624fc9e76ed49b9abe09973390244cd": {
          "model_module": "@jupyter-widgets/base",
          "model_name": "LayoutModel",
          "model_module_version": "1.2.0",
          "state": {
            "_view_module_version": "1.2.0",
            "_model_name": "LayoutModel",
            "grid_row": null,
            "_model_module": "@jupyter-widgets/base",
            "overflow": null,
            "max_height": null,
            "display": null,
            "grid_auto_flow": null,
            "grid_template_rows": null,
            "align_self": null,
            "grid_auto_columns": null,
            "width": null,
            "grid_area": null,
            "align_items": null,
            "_view_name": "LayoutView",
            "left": null,
            "height": null,
            "_view_module": "@jupyter-widgets/base",
            "object_position": null,
            "justify_content": null,
            "bottom": null,
            "max_width": null,
            "border": null,
            "margin": null,
            "order": null,
            "grid_column": null,
            "grid_auto_rows": null,
            "padding": null,
            "grid_template_columns": null,
            "justify_items": null,
            "object_fit": null,
            "visibility": null,
            "_view_count": null,
            "flex_flow": null,
            "min_height": null,
            "top": null,
            "min_width": null,
            "flex": null,
            "_model_module_version": "1.2.0",
            "grid_template_areas": null,
            "overflow_x": null,
            "right": null,
            "overflow_y": null,
            "grid_gap": null,
            "align_content": null
          }
        },
        "65f2e5de77924f278a786ab5336062c1": {
          "model_module": "@jupyter-widgets/controls",
          "model_name": "FloatProgressModel",
          "model_module_version": "1.5.0",
          "state": {
            "_view_module_version": "1.5.0",
            "description_tooltip": null,
            "_model_name": "FloatProgressModel",
            "_model_module": "@jupyter-widgets/controls",
            "max": 28,
            "bar_style": "success",
            "_view_name": "ProgressView",
            "_view_module": "@jupyter-widgets/controls",
            "_dom_classes": [],
            "layout": "IPY_MODEL_b2881a90184946f9bebfb2c035b3d353",
            "orientation": "horizontal",
            "value": 28,
            "style": "IPY_MODEL_a78461e29905406bb09c57a7a46ae7f9",
            "min": 0,
            "_view_count": null,
            "_model_module_version": "1.5.0",
            "description": ""
          }
        },
        "a78461e29905406bb09c57a7a46ae7f9": {
          "model_module": "@jupyter-widgets/controls",
          "model_name": "ProgressStyleModel",
          "model_module_version": "1.5.0",
          "state": {
            "_view_module_version": "1.2.0",
            "_model_name": "ProgressStyleModel",
            "_model_module": "@jupyter-widgets/controls",
            "description_width": "",
            "_view_name": "StyleView",
            "_view_module": "@jupyter-widgets/base",
            "_view_count": null,
            "bar_color": null,
            "_model_module_version": "1.5.0"
          }
        },
        "1a06f1680a2a4de28e5ce26edd05bdca": {
          "model_module": "@jupyter-widgets/controls",
          "model_name": "HTMLModel",
          "model_module_version": "1.5.0",
          "state": {
            "_view_module_version": "1.5.0",
            "description_tooltip": null,
            "_model_name": "HTMLModel",
            "_model_module": "@jupyter-widgets/controls",
            "_view_name": "HTMLView",
            "_view_module": "@jupyter-widgets/controls",
            "_dom_classes": [],
            "layout": "IPY_MODEL_04e4b3c2fe2f48e7a36ef9670606947d",
            "value": "Downloading: 100%",
            "style": "IPY_MODEL_55c7a73044604a6dad9f1b7312967936",
            "placeholder": "​",
            "_view_count": null,
            "_model_module_version": "1.5.0",
            "description": ""
          }
        },
        "b2881a90184946f9bebfb2c035b3d353": {
          "model_module": "@jupyter-widgets/base",
          "model_name": "LayoutModel",
          "model_module_version": "1.2.0",
          "state": {
            "_view_module_version": "1.2.0",
            "_model_name": "LayoutModel",
            "grid_row": null,
            "_model_module": "@jupyter-widgets/base",
            "overflow": null,
            "max_height": null,
            "display": null,
            "grid_auto_flow": null,
            "grid_template_rows": null,
            "align_self": null,
            "grid_auto_columns": null,
            "width": null,
            "grid_area": null,
            "align_items": null,
            "_view_name": "LayoutView",
            "left": null,
            "height": null,
            "_view_module": "@jupyter-widgets/base",
            "object_position": null,
            "justify_content": null,
            "bottom": null,
            "max_width": null,
            "border": null,
            "margin": null,
            "order": null,
            "grid_column": null,
            "grid_auto_rows": null,
            "padding": null,
            "grid_template_columns": null,
            "justify_items": null,
            "object_fit": null,
            "visibility": null,
            "_view_count": null,
            "flex_flow": null,
            "min_height": null,
            "top": null,
            "min_width": null,
            "flex": null,
            "_model_module_version": "1.2.0",
            "grid_template_areas": null,
            "overflow_x": null,
            "right": null,
            "overflow_y": null,
            "grid_gap": null,
            "align_content": null
          }
        },
        "fc1ba074a8fe4de89202b6fc58ab0fbe": {
          "model_module": "@jupyter-widgets/controls",
          "model_name": "HBoxModel",
          "model_module_version": "1.5.0",
          "state": {
            "_view_module_version": "1.5.0",
            "_model_name": "HBoxModel",
            "_model_module": "@jupyter-widgets/controls",
            "_view_name": "HBoxView",
            "_view_module": "@jupyter-widgets/controls",
            "_dom_classes": [],
            "layout": "IPY_MODEL_982a628b8ee447b7bcd1c08719d60996",
            "_view_count": null,
            "_model_module_version": "1.5.0",
            "box_style": "",
            "children": [
              "IPY_MODEL_b9e4f2d60ef34d2a9dc02d57ecbac4ed",
              "IPY_MODEL_d8cd1d70139b4b6f9a0963aab4a7388b",
              "IPY_MODEL_6c97078cdd0f4339b65b6e13a20fb951"
            ]
          }
        },
        "2399cac80dd04c6a8fff3b9ffed44d38": {
          "model_module": "@jupyter-widgets/controls",
          "model_name": "HTMLModel",
          "model_module_version": "1.5.0",
          "state": {
            "_view_module_version": "1.5.0",
            "description_tooltip": null,
            "_model_name": "HTMLModel",
            "_model_module": "@jupyter-widgets/controls",
            "_view_name": "HTMLView",
            "_view_module": "@jupyter-widgets/controls",
            "_dom_classes": [],
            "layout": "IPY_MODEL_2c606689f16b4c188314ed90912a1e52",
            "value": " 483/483 [00:00&lt;00:00, 9.47kB/s]",
            "style": "IPY_MODEL_714d9ace8d864af8a8e6e4854b57fe5d",
            "placeholder": "​",
            "_view_count": null,
            "_model_module_version": "1.5.0",
            "description": ""
          }
        },
        "55c7a73044604a6dad9f1b7312967936": {
          "model_module": "@jupyter-widgets/controls",
          "model_name": "DescriptionStyleModel",
          "model_module_version": "1.5.0",
          "state": {
            "_view_name": "StyleView",
            "_model_name": "DescriptionStyleModel",
            "description_width": "",
            "_view_module": "@jupyter-widgets/base",
            "_model_module_version": "1.5.0",
            "_view_count": null,
            "_view_module_version": "1.2.0",
            "_model_module": "@jupyter-widgets/controls"
          }
        },
        "0753843a7a2e4fd59cde598bf824dc13": {
          "model_module": "@jupyter-widgets/controls",
          "model_name": "ProgressStyleModel",
          "model_module_version": "1.5.0",
          "state": {
            "_view_module_version": "1.2.0",
            "_model_name": "ProgressStyleModel",
            "_model_module": "@jupyter-widgets/controls",
            "description_width": "",
            "_view_name": "StyleView",
            "_view_module": "@jupyter-widgets/base",
            "_view_count": null,
            "bar_color": null,
            "_model_module_version": "1.5.0"
          }
        },
        "b9e4f2d60ef34d2a9dc02d57ecbac4ed": {
          "model_module": "@jupyter-widgets/controls",
          "model_name": "HTMLModel",
          "model_module_version": "1.5.0",
          "state": {
            "_view_module_version": "1.5.0",
            "description_tooltip": null,
            "_model_name": "HTMLModel",
            "_model_module": "@jupyter-widgets/controls",
            "_view_name": "HTMLView",
            "_view_module": "@jupyter-widgets/controls",
            "_dom_classes": [],
            "layout": "IPY_MODEL_1a40f86077ab47a5a9afc3cdb63ac045",
            "value": "Downloading: 100%",
            "style": "IPY_MODEL_ac2e615e906c4122bcf4cba9e9f142eb",
            "placeholder": "​",
            "_view_count": null,
            "_model_module_version": "1.5.0",
            "description": ""
          }
        },
        "b1abf5032469472b8ba8e84b1ec89431": {
          "model_module": "@jupyter-widgets/controls",
          "model_name": "DescriptionStyleModel",
          "model_module_version": "1.5.0",
          "state": {
            "_view_name": "StyleView",
            "_model_name": "DescriptionStyleModel",
            "description_width": "",
            "_view_module": "@jupyter-widgets/base",
            "_model_module_version": "1.5.0",
            "_view_count": null,
            "_view_module_version": "1.2.0",
            "_model_module": "@jupyter-widgets/controls"
          }
        },
        "5c9de137884c4611a35fc3023c6e530c": {
          "model_module": "@jupyter-widgets/controls",
          "model_name": "HBoxModel",
          "model_module_version": "1.5.0",
          "state": {
            "_view_module_version": "1.5.0",
            "_model_name": "HBoxModel",
            "_model_module": "@jupyter-widgets/controls",
            "_view_name": "HBoxView",
            "_view_module": "@jupyter-widgets/controls",
            "_dom_classes": [],
            "layout": "IPY_MODEL_f225a899a2284fadbc57144f8a7a857a",
            "_view_count": null,
            "_model_module_version": "1.5.0",
            "box_style": "",
            "children": [
              "IPY_MODEL_8d8336664c5e46979e140df507b0258d",
              "IPY_MODEL_e5db0747de2042afb7b7cd2e3b3708a4",
              "IPY_MODEL_0f6c95eb4202436e85f891331944f98c"
            ]
          }
        },
        "8d8336664c5e46979e140df507b0258d": {
          "model_module": "@jupyter-widgets/controls",
          "model_name": "HTMLModel",
          "model_module_version": "1.5.0",
          "state": {
            "_view_module_version": "1.5.0",
            "description_tooltip": null,
            "_model_name": "HTMLModel",
            "_model_module": "@jupyter-widgets/controls",
            "_view_name": "HTMLView",
            "_view_module": "@jupyter-widgets/controls",
            "_dom_classes": [],
            "layout": "IPY_MODEL_71211f544266454a9e77a6fd4a1de2e3",
            "value": "Downloading: 100%",
            "style": "IPY_MODEL_aab5c161db3c4fe9a690795bfa6e95cc",
            "placeholder": "​",
            "_view_count": null,
            "_model_module_version": "1.5.0",
            "description": ""
          }
        },
        "fd1b079496dd4633b99f5e7abc55d444": {
          "model_module": "@jupyter-widgets/controls",
          "model_name": "ProgressStyleModel",
          "model_module_version": "1.5.0",
          "state": {
            "_view_module_version": "1.2.0",
            "_model_name": "ProgressStyleModel",
            "_model_module": "@jupyter-widgets/controls",
            "description_width": "",
            "_view_name": "StyleView",
            "_view_module": "@jupyter-widgets/base",
            "_view_count": null,
            "bar_color": null,
            "_model_module_version": "1.5.0"
          }
        }
      }
    },
    "kernel_info": {
      "name": "python3"
    },
    "microsoft": {
      "host": {
        "AzureML": {
          "notebookHasBeenCompleted": true
        }
      }
    },
    "nteract": {
      "version": "nteract-front-end@1.0.0"
    }
  },
  "nbformat": 4,
  "nbformat_minor": 0
}